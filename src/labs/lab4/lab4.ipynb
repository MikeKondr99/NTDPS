{
 "cells": [
  {
   "cell_type": "markdown",
   "metadata": {},
   "source": [
    "Подключаем нужные пакеты для работы с БД и данными"
   ]
  },
  {
   "cell_type": "code",
   "execution_count": 1,
   "metadata": {},
   "outputs": [],
   "source": [
    "import pandas as pd\n",
    "import sqlite3 as sql"
   ]
  },
  {
   "cell_type": "markdown",
   "metadata": {},
   "source": [
    "Создадим базу данных с таблицей по данной схеме\n",
    "\n",
    "![схема](../../../files/lab4-1.svg)\n",
    "\n",
    "** schema.sql**\n",
    "```SQL\n",
    "CREATE TABLE orders(\n",
    "    user_id  INT,              -- уникальный идентификатор пользователя\n",
    "    order_id INT,              -- уникальный идентификатор заказа\n",
    "    order_time INT,            -- время сделанного заказа в unixtime (секунды, UTC)\n",
    "    order_cost REAL,           -- стоимость заказа\n",
    "    success_order_flag BOOLEAN -- идентификатор, определяющий был ли заказ \n",
    ");\n",
    "```\n",
    "db = sqlite3.connect(path)"
   ]
  },
  {
   "cell_type": "code",
   "execution_count": 2,
   "metadata": {},
   "outputs": [],
   "source": [
    "columns = [\"user_id\",\"order_id\",\"order_time\",\"order_cost\",\"success_order_flg\"]\n",
    "db = sql.connect('')\n",
    "c = db.cursor()"
   ]
  },
  {
   "cell_type": "markdown",
   "metadata": {},
   "source": [
    "Заполним таблицу [данными](https://drive.google.com/file/d/1SY9wK0EWaBCr9R3cLbqhtW4l7FQPq4Gr/view?usp=sharing) из csv файла"
   ]
  },
  {
   "cell_type": "code",
   "execution_count": 3,
   "metadata": {},
   "outputs": [
    {
     "data": {
      "text/plain": [
       "56680"
      ]
     },
     "execution_count": 3,
     "metadata": {},
     "output_type": "execute_result"
    }
   ],
   "source": [
    "path = '../../../files/dataset.csv'\n",
    "orders = pd.read_csv(path,delimiter=';')\n",
    "# преобразуем int в дату и заодно очищаем\n",
    "orders['order_time'] = pd.to_datetime(orders['order_time'],unit='s',errors='coerce')\n",
    "# очищаем столбец цена от некорректных значений\n",
    "orders['order_cost'] = pd.to_numeric(orders['order_cost'],errors='coerce')\n",
    "orders.dropna()\n",
    "orders.to_sql('orders', db, index = False)"
   ]
  },
  {
   "cell_type": "markdown",
   "metadata": {},
   "source": [
    "Проверим что данные в базе данных 😃"
   ]
  },
  {
   "cell_type": "code",
   "execution_count": 20,
   "metadata": {},
   "outputs": [
    {
     "data": {
      "text/html": [
       "<style type=\"text/css\">\n",
       "</style>\n",
       "<table id=\"T_5c303\">\n",
       "  <thead>\n",
       "    <tr>\n",
       "      <th id=\"T_5c303_level0_col0\" class=\"col_heading level0 col0\" >user_id</th>\n",
       "      <th id=\"T_5c303_level0_col1\" class=\"col_heading level0 col1\" >order_id</th>\n",
       "      <th id=\"T_5c303_level0_col2\" class=\"col_heading level0 col2\" >order_time</th>\n",
       "      <th id=\"T_5c303_level0_col3\" class=\"col_heading level0 col3\" >order_cost</th>\n",
       "      <th id=\"T_5c303_level0_col4\" class=\"col_heading level0 col4\" >success_order_flg</th>\n",
       "    </tr>\n",
       "  </thead>\n",
       "  <tbody>\n",
       "    <tr>\n",
       "      <td id=\"T_5c303_row0_col0\" class=\"data row0 col0\" >1728898</td>\n",
       "      <td id=\"T_5c303_row0_col1\" class=\"data row0 col1\" >118881751</td>\n",
       "      <td id=\"T_5c303_row0_col2\" class=\"data row0 col2\" >2020-01-06 21:14:09</td>\n",
       "      <td id=\"T_5c303_row0_col3\" class=\"data row0 col3\" >12804.166700</td>\n",
       "      <td id=\"T_5c303_row0_col4\" class=\"data row0 col4\" >0</td>\n",
       "    </tr>\n",
       "    <tr>\n",
       "      <td id=\"T_5c303_row1_col0\" class=\"data row1 col0\" >1728898</td>\n",
       "      <td id=\"T_5c303_row1_col1\" class=\"data row1 col1\" >132150404</td>\n",
       "      <td id=\"T_5c303_row1_col2\" class=\"data row1 col2\" >2020-03-16 14:03:17</td>\n",
       "      <td id=\"T_5c303_row1_col3\" class=\"data row1 col3\" >5147.272800</td>\n",
       "      <td id=\"T_5c303_row1_col4\" class=\"data row1 col4\" >1</td>\n",
       "    </tr>\n",
       "    <tr>\n",
       "      <td id=\"T_5c303_row2_col0\" class=\"data row2 col0\" >1728898</td>\n",
       "      <td id=\"T_5c303_row2_col1\" class=\"data row2 col1\" >133654929</td>\n",
       "      <td id=\"T_5c303_row2_col2\" class=\"data row2 col2\" >2020-03-29 17:00:00</td>\n",
       "      <td id=\"T_5c303_row2_col3\" class=\"data row2 col3\" >8600.000000</td>\n",
       "      <td id=\"T_5c303_row2_col4\" class=\"data row2 col4\" >1</td>\n",
       "    </tr>\n",
       "    <tr>\n",
       "      <td id=\"T_5c303_row3_col0\" class=\"data row3 col0\" >1728898</td>\n",
       "      <td id=\"T_5c303_row3_col1\" class=\"data row3 col1\" >133770763</td>\n",
       "      <td id=\"T_5c303_row3_col2\" class=\"data row3 col2\" >2020-03-26 15:06:09</td>\n",
       "      <td id=\"T_5c303_row3_col3\" class=\"data row3 col3\" >6807.303100</td>\n",
       "      <td id=\"T_5c303_row3_col4\" class=\"data row3 col4\" >1</td>\n",
       "    </tr>\n",
       "    <tr>\n",
       "      <td id=\"T_5c303_row4_col0\" class=\"data row4 col0\" >1766832</td>\n",
       "      <td id=\"T_5c303_row4_col1\" class=\"data row4 col1\" >118492969</td>\n",
       "      <td id=\"T_5c303_row4_col2\" class=\"data row4 col2\" >2020-01-09 15:09:26</td>\n",
       "      <td id=\"T_5c303_row4_col3\" class=\"data row4 col3\" >2625.000000</td>\n",
       "      <td id=\"T_5c303_row4_col4\" class=\"data row4 col4\" >1</td>\n",
       "    </tr>\n",
       "    <tr>\n",
       "      <td id=\"T_5c303_row5_col0\" class=\"data row5 col0\" >1766832</td>\n",
       "      <td id=\"T_5c303_row5_col1\" class=\"data row5 col1\" >120888914</td>\n",
       "      <td id=\"T_5c303_row5_col2\" class=\"data row5 col2\" >2020-01-18 10:33:02</td>\n",
       "      <td id=\"T_5c303_row5_col3\" class=\"data row5 col3\" >2408.000000</td>\n",
       "      <td id=\"T_5c303_row5_col4\" class=\"data row5 col4\" >0</td>\n",
       "    </tr>\n",
       "  </tbody>\n",
       "</table>\n"
      ],
      "text/plain": [
       "<pandas.io.formats.style.Styler at 0x25059333010>"
      ]
     },
     "metadata": {},
     "output_type": "display_data"
    }
   ],
   "source": [
    "table = c.execute(\"\"\"\n",
    "    SELECT * FROM orders LIMIT 6\n",
    "\"\"\").fetchall()\n",
    "df = pd.DataFrame(table,columns=columns).style.hide(axis='index')\n",
    "display(df)"
   ]
  },
  {
   "cell_type": "markdown",
   "metadata": {},
   "source": [
    "Нужно получить отчетную таблицу\n",
    " - date - календарная дата привлечения или реактивации\n",
    " - gmv360d_new - общая стоимость заказов за 360 дней после дня date, совершенных пользователями, привлеченными в день date\n",
    " - gmv360d_reactivated - общая стоимость заказов за 360 дней после дня date, совершенных пользователями, реактивированными в день date\n",
    " - users_count_new - кол-во пользователей, привлеченных в день date\n",
    " - users_count_reactivated- кол-во пользователей, реактивированных в день date\n"
   ]
  },
  {
   "cell_type": "code",
   "execution_count": 28,
   "metadata": {},
   "outputs": [
    {
     "data": {
      "text/html": [
       "<style type=\"text/css\">\n",
       "</style>\n",
       "<table id=\"T_52162\">\n",
       "  <thead>\n",
       "    <tr>\n",
       "      <th id=\"T_52162_level0_col0\" class=\"col_heading level0 col0\" >date</th>\n",
       "      <th id=\"T_52162_level0_col1\" class=\"col_heading level0 col1\" >new sum</th>\n",
       "      <th id=\"T_52162_level0_col2\" class=\"col_heading level0 col2\" >renew sum</th>\n",
       "      <th id=\"T_52162_level0_col3\" class=\"col_heading level0 col3\" >sum</th>\n",
       "      <th id=\"T_52162_level0_col4\" class=\"col_heading level0 col4\" >new count</th>\n",
       "      <th id=\"T_52162_level0_col5\" class=\"col_heading level0 col5\" >renew count</th>\n",
       "      <th id=\"T_52162_level0_col6\" class=\"col_heading level0 col6\" >count</th>\n",
       "    </tr>\n",
       "  </thead>\n",
       "  <tbody>\n",
       "    <tr>\n",
       "      <td id=\"T_52162_row0_col0\" class=\"data row0 col0\" >2020-05-22</td>\n",
       "      <td id=\"T_52162_row0_col1\" class=\"data row0 col1\" >8525.908800</td>\n",
       "      <td id=\"T_52162_row0_col2\" class=\"data row0 col2\" >165117.515400</td>\n",
       "      <td id=\"T_52162_row0_col3\" class=\"data row0 col3\" >173643.424200</td>\n",
       "      <td id=\"T_52162_row0_col4\" class=\"data row0 col4\" >2</td>\n",
       "      <td id=\"T_52162_row0_col5\" class=\"data row0 col5\" >12</td>\n",
       "      <td id=\"T_52162_row0_col6\" class=\"data row0 col6\" >14</td>\n",
       "    </tr>\n",
       "    <tr>\n",
       "      <td id=\"T_52162_row1_col0\" class=\"data row1 col0\" >2020-05-23</td>\n",
       "      <td id=\"T_52162_row1_col1\" class=\"data row1 col1\" >5953.333400</td>\n",
       "      <td id=\"T_52162_row1_col2\" class=\"data row1 col2\" >73252.181300</td>\n",
       "      <td id=\"T_52162_row1_col3\" class=\"data row1 col3\" >79205.514700</td>\n",
       "      <td id=\"T_52162_row1_col4\" class=\"data row1 col4\" >1</td>\n",
       "      <td id=\"T_52162_row1_col5\" class=\"data row1 col5\" >11</td>\n",
       "      <td id=\"T_52162_row1_col6\" class=\"data row1 col6\" >12</td>\n",
       "    </tr>\n",
       "    <tr>\n",
       "      <td id=\"T_52162_row2_col0\" class=\"data row2 col0\" >2020-05-24</td>\n",
       "      <td id=\"T_52162_row2_col1\" class=\"data row2 col1\" >19767.333300</td>\n",
       "      <td id=\"T_52162_row2_col2\" class=\"data row2 col2\" >78236.363100</td>\n",
       "      <td id=\"T_52162_row2_col3\" class=\"data row2 col3\" >98003.696400</td>\n",
       "      <td id=\"T_52162_row2_col4\" class=\"data row2 col4\" >2</td>\n",
       "      <td id=\"T_52162_row2_col5\" class=\"data row2 col5\" >12</td>\n",
       "      <td id=\"T_52162_row2_col6\" class=\"data row2 col6\" >14</td>\n",
       "    </tr>\n",
       "    <tr>\n",
       "      <td id=\"T_52162_row3_col0\" class=\"data row3 col0\" >2020-05-25</td>\n",
       "      <td id=\"T_52162_row3_col1\" class=\"data row3 col1\" >40695.999800</td>\n",
       "      <td id=\"T_52162_row3_col2\" class=\"data row3 col2\" >88847.211800</td>\n",
       "      <td id=\"T_52162_row3_col3\" class=\"data row3 col3\" >129543.211600</td>\n",
       "      <td id=\"T_52162_row3_col4\" class=\"data row3 col4\" >1</td>\n",
       "      <td id=\"T_52162_row3_col5\" class=\"data row3 col5\" >22</td>\n",
       "      <td id=\"T_52162_row3_col6\" class=\"data row3 col6\" >23</td>\n",
       "    </tr>\n",
       "    <tr>\n",
       "      <td id=\"T_52162_row4_col0\" class=\"data row4 col0\" >2020-05-26</td>\n",
       "      <td id=\"T_52162_row4_col1\" class=\"data row4 col1\" >3980.000000</td>\n",
       "      <td id=\"T_52162_row4_col2\" class=\"data row4 col2\" >87802.016000</td>\n",
       "      <td id=\"T_52162_row4_col3\" class=\"data row4 col3\" >91782.016000</td>\n",
       "      <td id=\"T_52162_row4_col4\" class=\"data row4 col4\" >1</td>\n",
       "      <td id=\"T_52162_row4_col5\" class=\"data row4 col5\" >14</td>\n",
       "      <td id=\"T_52162_row4_col6\" class=\"data row4 col6\" >15</td>\n",
       "    </tr>\n",
       "    <tr>\n",
       "      <td id=\"T_52162_row5_col0\" class=\"data row5 col0\" >2020-05-27</td>\n",
       "      <td id=\"T_52162_row5_col1\" class=\"data row5 col1\" >0.000000</td>\n",
       "      <td id=\"T_52162_row5_col2\" class=\"data row5 col2\" >89709.591000</td>\n",
       "      <td id=\"T_52162_row5_col3\" class=\"data row5 col3\" >89709.591000</td>\n",
       "      <td id=\"T_52162_row5_col4\" class=\"data row5 col4\" >0</td>\n",
       "      <td id=\"T_52162_row5_col5\" class=\"data row5 col5\" >16</td>\n",
       "      <td id=\"T_52162_row5_col6\" class=\"data row5 col6\" >16</td>\n",
       "    </tr>\n",
       "    <tr>\n",
       "      <td id=\"T_52162_row6_col0\" class=\"data row6 col0\" >2020-05-28</td>\n",
       "      <td id=\"T_52162_row6_col1\" class=\"data row6 col1\" >5896.000000</td>\n",
       "      <td id=\"T_52162_row6_col2\" class=\"data row6 col2\" >89389.530300</td>\n",
       "      <td id=\"T_52162_row6_col3\" class=\"data row6 col3\" >95285.530300</td>\n",
       "      <td id=\"T_52162_row6_col4\" class=\"data row6 col4\" >2</td>\n",
       "      <td id=\"T_52162_row6_col5\" class=\"data row6 col5\" >21</td>\n",
       "      <td id=\"T_52162_row6_col6\" class=\"data row6 col6\" >23</td>\n",
       "    </tr>\n",
       "    <tr>\n",
       "      <td id=\"T_52162_row7_col0\" class=\"data row7 col0\" >2020-05-29</td>\n",
       "      <td id=\"T_52162_row7_col1\" class=\"data row7 col1\" >10903.121000</td>\n",
       "      <td id=\"T_52162_row7_col2\" class=\"data row7 col2\" >136378.863300</td>\n",
       "      <td id=\"T_52162_row7_col3\" class=\"data row7 col3\" >147281.984300</td>\n",
       "      <td id=\"T_52162_row7_col4\" class=\"data row7 col4\" >2</td>\n",
       "      <td id=\"T_52162_row7_col5\" class=\"data row7 col5\" >16</td>\n",
       "      <td id=\"T_52162_row7_col6\" class=\"data row7 col6\" >18</td>\n",
       "    </tr>\n",
       "    <tr>\n",
       "      <td id=\"T_52162_row8_col0\" class=\"data row8 col0\" >2020-05-30</td>\n",
       "      <td id=\"T_52162_row8_col1\" class=\"data row8 col1\" >0.000000</td>\n",
       "      <td id=\"T_52162_row8_col2\" class=\"data row8 col2\" >73687.727300</td>\n",
       "      <td id=\"T_52162_row8_col3\" class=\"data row8 col3\" >73687.727300</td>\n",
       "      <td id=\"T_52162_row8_col4\" class=\"data row8 col4\" >0</td>\n",
       "      <td id=\"T_52162_row8_col5\" class=\"data row8 col5\" >17</td>\n",
       "      <td id=\"T_52162_row8_col6\" class=\"data row8 col6\" >17</td>\n",
       "    </tr>\n",
       "    <tr>\n",
       "      <td id=\"T_52162_row9_col0\" class=\"data row9 col0\" >2020-05-31</td>\n",
       "      <td id=\"T_52162_row9_col1\" class=\"data row9 col1\" >4280.424200</td>\n",
       "      <td id=\"T_52162_row9_col2\" class=\"data row9 col2\" >166821.575800</td>\n",
       "      <td id=\"T_52162_row9_col3\" class=\"data row9 col3\" >171102.000000</td>\n",
       "      <td id=\"T_52162_row9_col4\" class=\"data row9 col4\" >2</td>\n",
       "      <td id=\"T_52162_row9_col5\" class=\"data row9 col5\" >23</td>\n",
       "      <td id=\"T_52162_row9_col6\" class=\"data row9 col6\" >25</td>\n",
       "    </tr>\n",
       "  </tbody>\n",
       "</table>\n"
      ],
      "text/plain": [
       "<pandas.io.formats.style.Styler at 0x2503e7e6530>"
      ]
     },
     "metadata": {},
     "output_type": "display_data"
    }
   ],
   "source": [
    "c.executescript(open(\"views.sql\").read())\n",
    "table = c.execute(f'SELECT * FROM Result')\n",
    "df = pd.DataFrame(table,columns=['date','new sum','renew sum','sum','new count','renew count','count'])\n",
    "display(df.tail(10).style.hide(axis='index'))\n"
   ]
  },
  {
   "cell_type": "code",
   "execution_count": 31,
   "metadata": {},
   "outputs": [
    {
     "data": {
      "application/vnd.plotly.v1+json": {
       "config": {
        "plotlyServerURL": "https://plot.ly"
       },
       "data": [
        {
         "name": "Новые",
         "type": "bar",
         "x": [
          "2020-01-01",
          "2020-01-02",
          "2020-01-03",
          "2020-01-04",
          "2020-01-05",
          "2020-01-06",
          "2020-01-07",
          "2020-01-08",
          "2020-01-09",
          "2020-01-10",
          "2020-01-11",
          "2020-01-12",
          "2020-01-13",
          "2020-01-14",
          "2020-01-15",
          "2020-01-16",
          "2020-01-17",
          "2020-01-18",
          "2020-01-19",
          "2020-01-20",
          "2020-01-21",
          "2020-01-22",
          "2020-01-23",
          "2020-01-24",
          "2020-01-25",
          "2020-01-26",
          "2020-01-27",
          "2020-01-28",
          "2020-01-29",
          "2020-01-30",
          "2020-01-31",
          "2020-02-01",
          "2020-02-02",
          "2020-02-03",
          "2020-02-04",
          "2020-02-05",
          "2020-02-06",
          "2020-02-07",
          "2020-02-08",
          "2020-02-09",
          "2020-02-10",
          "2020-02-11",
          "2020-02-12",
          "2020-02-13",
          "2020-02-14",
          "2020-02-15",
          "2020-02-16",
          "2020-02-17",
          "2020-02-18",
          "2020-02-19",
          "2020-02-20",
          "2020-02-21",
          "2020-02-22",
          "2020-02-23",
          "2020-02-24",
          "2020-02-25",
          "2020-02-26",
          "2020-02-27",
          "2020-02-28",
          "2020-02-29",
          "2020-03-01",
          "2020-03-02",
          "2020-03-03",
          "2020-03-04",
          "2020-03-05",
          "2020-03-06",
          "2020-03-07",
          "2020-03-08",
          "2020-03-09",
          "2020-03-10",
          "2020-03-11",
          "2020-03-12",
          "2020-03-13",
          "2020-03-14",
          "2020-03-16",
          "2020-03-17",
          "2020-03-18",
          "2020-03-19",
          "2020-03-20",
          "2020-03-21",
          "2020-03-22",
          "2020-03-23",
          "2020-03-24",
          "2020-03-25",
          "2020-03-26",
          "2020-03-27",
          "2020-03-28",
          "2020-03-29",
          "2020-03-30",
          "2020-03-31",
          "2020-04-01",
          "2020-04-02",
          "2020-04-04",
          "2020-04-05",
          "2020-04-06",
          "2020-04-07",
          "2020-04-08",
          "2020-04-09",
          "2020-04-10",
          "2020-04-11",
          "2020-04-12",
          "2020-04-13",
          "2020-04-14",
          "2020-04-15",
          "2020-04-16",
          "2020-04-17",
          "2020-04-18",
          "2020-04-19",
          "2020-04-20",
          "2020-04-21",
          "2020-04-22",
          "2020-04-23",
          "2020-04-24",
          "2020-04-25",
          "2020-04-26",
          "2020-04-27",
          "2020-04-28",
          "2020-04-29",
          "2020-04-30",
          "2020-05-01",
          "2020-05-02",
          "2020-05-03",
          "2020-05-04",
          "2020-05-05",
          "2020-05-06",
          "2020-05-07",
          "2020-05-08",
          "2020-05-09",
          "2020-05-10",
          "2020-05-11",
          "2020-05-12",
          "2020-05-13",
          "2020-05-14",
          "2020-05-15",
          "2020-05-16",
          "2020-05-17",
          "2020-05-18",
          "2020-05-19",
          "2020-05-20",
          "2020-05-21",
          "2020-05-22",
          "2020-05-23",
          "2020-05-24",
          "2020-05-25",
          "2020-05-26",
          "2020-05-27",
          "2020-05-28",
          "2020-05-29",
          "2020-05-30",
          "2020-05-31"
         ],
         "y": [
          346449.8800000001,
          3705565.2585,
          8383269.1303,
          11573446.89420002,
          9226659.320300007,
          10144385.919500006,
          3522882.900699999,
          8598804.83529999,
          10751652.029200008,
          10351783.538000003,
          10131657.833700001,
          10063868.481699988,
          10664263.201700015,
          8697834.175900016,
          11280610.331899995,
          8149542.467100007,
          7140401.604499989,
          7319917.916699999,
          5963937.956100002,
          8572959.601999996,
          5995920.777900007,
          4947570.754100001,
          6031069.741299997,
          4753164.700799997,
          4408331.275200003,
          3154079.276800001,
          4019756.398800004,
          3498447.6032999987,
          3618866.597499997,
          4116493.361400002,
          4273104.236100004,
          2068698.9436,
          2091044.2819000005,
          2463075.3322999994,
          1904460.8503999996,
          1643009.8387999998,
          1203563.9958,
          795946.6964,
          515589.9258999999,
          395140.5013000001,
          874965.5617,
          364894.2561000001,
          332406.229,
          107722.31829999998,
          75809.93899999998,
          143589.9233,
          73354.6366,
          284125.3505,
          133039.35689999998,
          53569.93860000001,
          52860.2424,
          635453.6364,
          106368.3485,
          39564.3642,
          62781.6358,
          8093.333,
          8353.939400000001,
          110125.6544,
          128474.8487,
          23904.8488,
          23783.136700000003,
          111213.4999,
          142433.1812,
          67304.69679999999,
          152303.9398,
          95472.56120000001,
          3044.6668,
          5094,
          10463.3332,
          38050.4708,
          90075.40990000001,
          79868.1818,
          23781.3181,
          46357.393299999996,
          51092.0908,
          46087.0446,
          22725.090799999998,
          212447.3941,
          56125.15179999999,
          37134.999800000005,
          18851.363400000002,
          30698.879,
          22235.666899999997,
          24070.849,
          21112.1665,
          36347.212400000004,
          3133.3334,
          9888.6064,
          9104.6967,
          42131.439699999995,
          7035.000099999999,
          17646.212,
          37193.424,
          37784.651399999995,
          52408.9699,
          53696.0608,
          43735.6813,
          43167.500100000005,
          12445.7576,
          50091.8942,
          99124.03110000001,
          20574.9388,
          28694.6212,
          47699.318600000006,
          79353.0146,
          9698.333200000001,
          9735.394,
          2569.6666,
          8366.9998,
          33752.0456,
          0,
          52929.89400000001,
          13355.7424,
          4193.1818,
          3828.3334,
          12383.333299999998,
          3998,
          40489.6362,
          17584.4997,
          118509.2428,
          0,
          2137,
          14541.409,
          15336.6666,
          7047.0454,
          0,
          63772.4697,
          9344.091199999999,
          0,
          11082.4244,
          5719.5454,
          7910.909,
          3621.3334,
          0,
          2700.5456,
          2641.8182,
          19600.8788,
          9782.667,
          49912.1669,
          69341.1368,
          8525.9088,
          5953.3333999999995,
          19767.3333,
          40695.9998,
          3980,
          0,
          5896,
          10903.121,
          0,
          4280.4241999999995
         ]
        },
        {
         "name": "Реактивированные",
         "type": "bar",
         "x": [
          "2020-01-01",
          "2020-01-02",
          "2020-01-03",
          "2020-01-04",
          "2020-01-05",
          "2020-01-06",
          "2020-01-07",
          "2020-01-08",
          "2020-01-09",
          "2020-01-10",
          "2020-01-11",
          "2020-01-12",
          "2020-01-13",
          "2020-01-14",
          "2020-01-15",
          "2020-01-16",
          "2020-01-17",
          "2020-01-18",
          "2020-01-19",
          "2020-01-20",
          "2020-01-21",
          "2020-01-22",
          "2020-01-23",
          "2020-01-24",
          "2020-01-25",
          "2020-01-26",
          "2020-01-27",
          "2020-01-28",
          "2020-01-29",
          "2020-01-30",
          "2020-01-31",
          "2020-02-01",
          "2020-02-02",
          "2020-02-03",
          "2020-02-04",
          "2020-02-05",
          "2020-02-06",
          "2020-02-07",
          "2020-02-08",
          "2020-02-09",
          "2020-02-10",
          "2020-02-11",
          "2020-02-12",
          "2020-02-13",
          "2020-02-14",
          "2020-02-15",
          "2020-02-16",
          "2020-02-17",
          "2020-02-18",
          "2020-02-19",
          "2020-02-20",
          "2020-02-21",
          "2020-02-22",
          "2020-02-23",
          "2020-02-24",
          "2020-02-25",
          "2020-02-26",
          "2020-02-27",
          "2020-02-28",
          "2020-02-29",
          "2020-03-01",
          "2020-03-02",
          "2020-03-03",
          "2020-03-04",
          "2020-03-05",
          "2020-03-06",
          "2020-03-07",
          "2020-03-08",
          "2020-03-09",
          "2020-03-10",
          "2020-03-11",
          "2020-03-12",
          "2020-03-13",
          "2020-03-14",
          "2020-03-16",
          "2020-03-17",
          "2020-03-18",
          "2020-03-19",
          "2020-03-20",
          "2020-03-21",
          "2020-03-22",
          "2020-03-23",
          "2020-03-24",
          "2020-03-25",
          "2020-03-26",
          "2020-03-27",
          "2020-03-28",
          "2020-03-29",
          "2020-03-30",
          "2020-03-31",
          "2020-04-01",
          "2020-04-02",
          "2020-04-04",
          "2020-04-05",
          "2020-04-06",
          "2020-04-07",
          "2020-04-08",
          "2020-04-09",
          "2020-04-10",
          "2020-04-11",
          "2020-04-12",
          "2020-04-13",
          "2020-04-14",
          "2020-04-15",
          "2020-04-16",
          "2020-04-17",
          "2020-04-18",
          "2020-04-19",
          "2020-04-20",
          "2020-04-21",
          "2020-04-22",
          "2020-04-23",
          "2020-04-24",
          "2020-04-25",
          "2020-04-26",
          "2020-04-27",
          "2020-04-28",
          "2020-04-29",
          "2020-04-30",
          "2020-05-01",
          "2020-05-02",
          "2020-05-03",
          "2020-05-04",
          "2020-05-05",
          "2020-05-06",
          "2020-05-07",
          "2020-05-08",
          "2020-05-09",
          "2020-05-10",
          "2020-05-11",
          "2020-05-12",
          "2020-05-13",
          "2020-05-14",
          "2020-05-15",
          "2020-05-16",
          "2020-05-17",
          "2020-05-18",
          "2020-05-19",
          "2020-05-20",
          "2020-05-21",
          "2020-05-22",
          "2020-05-23",
          "2020-05-24",
          "2020-05-25",
          "2020-05-26",
          "2020-05-27",
          "2020-05-28",
          "2020-05-29",
          "2020-05-30",
          "2020-05-31"
         ],
         "y": [
          0,
          0,
          0,
          0,
          0,
          0,
          0,
          0,
          0,
          0,
          0,
          0,
          0,
          0,
          0,
          0,
          0,
          0,
          0,
          0,
          0,
          0,
          0,
          0,
          0,
          0,
          0,
          0,
          0,
          0,
          0,
          0,
          0,
          0,
          0,
          0,
          0,
          0,
          0,
          0,
          0,
          0,
          0,
          0,
          0,
          0,
          0,
          0,
          0,
          0,
          0,
          0,
          0,
          0,
          0,
          0,
          0,
          0,
          0,
          0,
          0,
          0,
          0,
          0,
          0,
          0,
          0,
          0,
          0,
          0,
          0,
          0,
          0,
          0,
          0,
          0,
          0,
          0,
          0,
          0,
          0,
          0,
          0,
          0,
          0,
          0,
          0,
          0,
          0,
          0,
          0,
          0,
          0,
          15187.2879,
          23176.2127,
          4666.6666,
          140957.3642,
          49713.8941,
          10116.6817,
          74434.72719999998,
          20652.499799999998,
          38815.10560000001,
          42191.8489,
          42688.6818,
          178939.06100000002,
          69769.9244,
          72388.9242,
          72179.48430000001,
          150110.95489999998,
          80749.93809999998,
          158049.13660000003,
          335057.05370000005,
          150278.5602,
          200463.07519999996,
          130525.01550000001,
          216973.39500000002,
          132420.96949999998,
          101341.9236,
          198338.1218,
          28594.5156,
          84325.5006,
          93658.09040000002,
          54106.6222,
          128607.6359,
          339302.8493,
          104821.90930000001,
          97360.9849,
          61349.364100000006,
          119970.3636,
          125439.0457,
          219932.8025,
          117357.33390000001,
          121842.4243,
          63285.75729999999,
          90507.33279999999,
          122209.241,
          239288.90970000005,
          53281.1522,
          147862.57679999998,
          134800.1813,
          165117.5154,
          73252.1813,
          78236.36309999999,
          88847.21179999999,
          87802.01600000002,
          89709.59100000001,
          89389.53030000001,
          136378.8633,
          73687.7273,
          166821.57579999996
         ]
        }
       ],
       "layout": {
        "barmode": "stack",
        "template": {
         "data": {
          "bar": [
           {
            "error_x": {
             "color": "#2a3f5f"
            },
            "error_y": {
             "color": "#2a3f5f"
            },
            "marker": {
             "line": {
              "color": "#E5ECF6",
              "width": 0.5
             },
             "pattern": {
              "fillmode": "overlay",
              "size": 10,
              "solidity": 0.2
             }
            },
            "type": "bar"
           }
          ],
          "barpolar": [
           {
            "marker": {
             "line": {
              "color": "#E5ECF6",
              "width": 0.5
             },
             "pattern": {
              "fillmode": "overlay",
              "size": 10,
              "solidity": 0.2
             }
            },
            "type": "barpolar"
           }
          ],
          "carpet": [
           {
            "aaxis": {
             "endlinecolor": "#2a3f5f",
             "gridcolor": "white",
             "linecolor": "white",
             "minorgridcolor": "white",
             "startlinecolor": "#2a3f5f"
            },
            "baxis": {
             "endlinecolor": "#2a3f5f",
             "gridcolor": "white",
             "linecolor": "white",
             "minorgridcolor": "white",
             "startlinecolor": "#2a3f5f"
            },
            "type": "carpet"
           }
          ],
          "choropleth": [
           {
            "colorbar": {
             "outlinewidth": 0,
             "ticks": ""
            },
            "type": "choropleth"
           }
          ],
          "contour": [
           {
            "colorbar": {
             "outlinewidth": 0,
             "ticks": ""
            },
            "colorscale": [
             [
              0,
              "#0d0887"
             ],
             [
              0.1111111111111111,
              "#46039f"
             ],
             [
              0.2222222222222222,
              "#7201a8"
             ],
             [
              0.3333333333333333,
              "#9c179e"
             ],
             [
              0.4444444444444444,
              "#bd3786"
             ],
             [
              0.5555555555555556,
              "#d8576b"
             ],
             [
              0.6666666666666666,
              "#ed7953"
             ],
             [
              0.7777777777777778,
              "#fb9f3a"
             ],
             [
              0.8888888888888888,
              "#fdca26"
             ],
             [
              1,
              "#f0f921"
             ]
            ],
            "type": "contour"
           }
          ],
          "contourcarpet": [
           {
            "colorbar": {
             "outlinewidth": 0,
             "ticks": ""
            },
            "type": "contourcarpet"
           }
          ],
          "heatmap": [
           {
            "colorbar": {
             "outlinewidth": 0,
             "ticks": ""
            },
            "colorscale": [
             [
              0,
              "#0d0887"
             ],
             [
              0.1111111111111111,
              "#46039f"
             ],
             [
              0.2222222222222222,
              "#7201a8"
             ],
             [
              0.3333333333333333,
              "#9c179e"
             ],
             [
              0.4444444444444444,
              "#bd3786"
             ],
             [
              0.5555555555555556,
              "#d8576b"
             ],
             [
              0.6666666666666666,
              "#ed7953"
             ],
             [
              0.7777777777777778,
              "#fb9f3a"
             ],
             [
              0.8888888888888888,
              "#fdca26"
             ],
             [
              1,
              "#f0f921"
             ]
            ],
            "type": "heatmap"
           }
          ],
          "heatmapgl": [
           {
            "colorbar": {
             "outlinewidth": 0,
             "ticks": ""
            },
            "colorscale": [
             [
              0,
              "#0d0887"
             ],
             [
              0.1111111111111111,
              "#46039f"
             ],
             [
              0.2222222222222222,
              "#7201a8"
             ],
             [
              0.3333333333333333,
              "#9c179e"
             ],
             [
              0.4444444444444444,
              "#bd3786"
             ],
             [
              0.5555555555555556,
              "#d8576b"
             ],
             [
              0.6666666666666666,
              "#ed7953"
             ],
             [
              0.7777777777777778,
              "#fb9f3a"
             ],
             [
              0.8888888888888888,
              "#fdca26"
             ],
             [
              1,
              "#f0f921"
             ]
            ],
            "type": "heatmapgl"
           }
          ],
          "histogram": [
           {
            "marker": {
             "pattern": {
              "fillmode": "overlay",
              "size": 10,
              "solidity": 0.2
             }
            },
            "type": "histogram"
           }
          ],
          "histogram2d": [
           {
            "colorbar": {
             "outlinewidth": 0,
             "ticks": ""
            },
            "colorscale": [
             [
              0,
              "#0d0887"
             ],
             [
              0.1111111111111111,
              "#46039f"
             ],
             [
              0.2222222222222222,
              "#7201a8"
             ],
             [
              0.3333333333333333,
              "#9c179e"
             ],
             [
              0.4444444444444444,
              "#bd3786"
             ],
             [
              0.5555555555555556,
              "#d8576b"
             ],
             [
              0.6666666666666666,
              "#ed7953"
             ],
             [
              0.7777777777777778,
              "#fb9f3a"
             ],
             [
              0.8888888888888888,
              "#fdca26"
             ],
             [
              1,
              "#f0f921"
             ]
            ],
            "type": "histogram2d"
           }
          ],
          "histogram2dcontour": [
           {
            "colorbar": {
             "outlinewidth": 0,
             "ticks": ""
            },
            "colorscale": [
             [
              0,
              "#0d0887"
             ],
             [
              0.1111111111111111,
              "#46039f"
             ],
             [
              0.2222222222222222,
              "#7201a8"
             ],
             [
              0.3333333333333333,
              "#9c179e"
             ],
             [
              0.4444444444444444,
              "#bd3786"
             ],
             [
              0.5555555555555556,
              "#d8576b"
             ],
             [
              0.6666666666666666,
              "#ed7953"
             ],
             [
              0.7777777777777778,
              "#fb9f3a"
             ],
             [
              0.8888888888888888,
              "#fdca26"
             ],
             [
              1,
              "#f0f921"
             ]
            ],
            "type": "histogram2dcontour"
           }
          ],
          "mesh3d": [
           {
            "colorbar": {
             "outlinewidth": 0,
             "ticks": ""
            },
            "type": "mesh3d"
           }
          ],
          "parcoords": [
           {
            "line": {
             "colorbar": {
              "outlinewidth": 0,
              "ticks": ""
             }
            },
            "type": "parcoords"
           }
          ],
          "pie": [
           {
            "automargin": true,
            "type": "pie"
           }
          ],
          "scatter": [
           {
            "fillpattern": {
             "fillmode": "overlay",
             "size": 10,
             "solidity": 0.2
            },
            "type": "scatter"
           }
          ],
          "scatter3d": [
           {
            "line": {
             "colorbar": {
              "outlinewidth": 0,
              "ticks": ""
             }
            },
            "marker": {
             "colorbar": {
              "outlinewidth": 0,
              "ticks": ""
             }
            },
            "type": "scatter3d"
           }
          ],
          "scattercarpet": [
           {
            "marker": {
             "colorbar": {
              "outlinewidth": 0,
              "ticks": ""
             }
            },
            "type": "scattercarpet"
           }
          ],
          "scattergeo": [
           {
            "marker": {
             "colorbar": {
              "outlinewidth": 0,
              "ticks": ""
             }
            },
            "type": "scattergeo"
           }
          ],
          "scattergl": [
           {
            "marker": {
             "colorbar": {
              "outlinewidth": 0,
              "ticks": ""
             }
            },
            "type": "scattergl"
           }
          ],
          "scattermapbox": [
           {
            "marker": {
             "colorbar": {
              "outlinewidth": 0,
              "ticks": ""
             }
            },
            "type": "scattermapbox"
           }
          ],
          "scatterpolar": [
           {
            "marker": {
             "colorbar": {
              "outlinewidth": 0,
              "ticks": ""
             }
            },
            "type": "scatterpolar"
           }
          ],
          "scatterpolargl": [
           {
            "marker": {
             "colorbar": {
              "outlinewidth": 0,
              "ticks": ""
             }
            },
            "type": "scatterpolargl"
           }
          ],
          "scatterternary": [
           {
            "marker": {
             "colorbar": {
              "outlinewidth": 0,
              "ticks": ""
             }
            },
            "type": "scatterternary"
           }
          ],
          "surface": [
           {
            "colorbar": {
             "outlinewidth": 0,
             "ticks": ""
            },
            "colorscale": [
             [
              0,
              "#0d0887"
             ],
             [
              0.1111111111111111,
              "#46039f"
             ],
             [
              0.2222222222222222,
              "#7201a8"
             ],
             [
              0.3333333333333333,
              "#9c179e"
             ],
             [
              0.4444444444444444,
              "#bd3786"
             ],
             [
              0.5555555555555556,
              "#d8576b"
             ],
             [
              0.6666666666666666,
              "#ed7953"
             ],
             [
              0.7777777777777778,
              "#fb9f3a"
             ],
             [
              0.8888888888888888,
              "#fdca26"
             ],
             [
              1,
              "#f0f921"
             ]
            ],
            "type": "surface"
           }
          ],
          "table": [
           {
            "cells": {
             "fill": {
              "color": "#EBF0F8"
             },
             "line": {
              "color": "white"
             }
            },
            "header": {
             "fill": {
              "color": "#C8D4E3"
             },
             "line": {
              "color": "white"
             }
            },
            "type": "table"
           }
          ]
         },
         "layout": {
          "annotationdefaults": {
           "arrowcolor": "#2a3f5f",
           "arrowhead": 0,
           "arrowwidth": 1
          },
          "autotypenumbers": "strict",
          "coloraxis": {
           "colorbar": {
            "outlinewidth": 0,
            "ticks": ""
           }
          },
          "colorscale": {
           "diverging": [
            [
             0,
             "#8e0152"
            ],
            [
             0.1,
             "#c51b7d"
            ],
            [
             0.2,
             "#de77ae"
            ],
            [
             0.3,
             "#f1b6da"
            ],
            [
             0.4,
             "#fde0ef"
            ],
            [
             0.5,
             "#f7f7f7"
            ],
            [
             0.6,
             "#e6f5d0"
            ],
            [
             0.7,
             "#b8e186"
            ],
            [
             0.8,
             "#7fbc41"
            ],
            [
             0.9,
             "#4d9221"
            ],
            [
             1,
             "#276419"
            ]
           ],
           "sequential": [
            [
             0,
             "#0d0887"
            ],
            [
             0.1111111111111111,
             "#46039f"
            ],
            [
             0.2222222222222222,
             "#7201a8"
            ],
            [
             0.3333333333333333,
             "#9c179e"
            ],
            [
             0.4444444444444444,
             "#bd3786"
            ],
            [
             0.5555555555555556,
             "#d8576b"
            ],
            [
             0.6666666666666666,
             "#ed7953"
            ],
            [
             0.7777777777777778,
             "#fb9f3a"
            ],
            [
             0.8888888888888888,
             "#fdca26"
            ],
            [
             1,
             "#f0f921"
            ]
           ],
           "sequentialminus": [
            [
             0,
             "#0d0887"
            ],
            [
             0.1111111111111111,
             "#46039f"
            ],
            [
             0.2222222222222222,
             "#7201a8"
            ],
            [
             0.3333333333333333,
             "#9c179e"
            ],
            [
             0.4444444444444444,
             "#bd3786"
            ],
            [
             0.5555555555555556,
             "#d8576b"
            ],
            [
             0.6666666666666666,
             "#ed7953"
            ],
            [
             0.7777777777777778,
             "#fb9f3a"
            ],
            [
             0.8888888888888888,
             "#fdca26"
            ],
            [
             1,
             "#f0f921"
            ]
           ]
          },
          "colorway": [
           "#636efa",
           "#EF553B",
           "#00cc96",
           "#ab63fa",
           "#FFA15A",
           "#19d3f3",
           "#FF6692",
           "#B6E880",
           "#FF97FF",
           "#FECB52"
          ],
          "font": {
           "color": "#2a3f5f"
          },
          "geo": {
           "bgcolor": "white",
           "lakecolor": "white",
           "landcolor": "#E5ECF6",
           "showlakes": true,
           "showland": true,
           "subunitcolor": "white"
          },
          "hoverlabel": {
           "align": "left"
          },
          "hovermode": "closest",
          "mapbox": {
           "style": "light"
          },
          "paper_bgcolor": "white",
          "plot_bgcolor": "#E5ECF6",
          "polar": {
           "angularaxis": {
            "gridcolor": "white",
            "linecolor": "white",
            "ticks": ""
           },
           "bgcolor": "#E5ECF6",
           "radialaxis": {
            "gridcolor": "white",
            "linecolor": "white",
            "ticks": ""
           }
          },
          "scene": {
           "xaxis": {
            "backgroundcolor": "#E5ECF6",
            "gridcolor": "white",
            "gridwidth": 2,
            "linecolor": "white",
            "showbackground": true,
            "ticks": "",
            "zerolinecolor": "white"
           },
           "yaxis": {
            "backgroundcolor": "#E5ECF6",
            "gridcolor": "white",
            "gridwidth": 2,
            "linecolor": "white",
            "showbackground": true,
            "ticks": "",
            "zerolinecolor": "white"
           },
           "zaxis": {
            "backgroundcolor": "#E5ECF6",
            "gridcolor": "white",
            "gridwidth": 2,
            "linecolor": "white",
            "showbackground": true,
            "ticks": "",
            "zerolinecolor": "white"
           }
          },
          "shapedefaults": {
           "line": {
            "color": "#2a3f5f"
           }
          },
          "ternary": {
           "aaxis": {
            "gridcolor": "white",
            "linecolor": "white",
            "ticks": ""
           },
           "baxis": {
            "gridcolor": "white",
            "linecolor": "white",
            "ticks": ""
           },
           "bgcolor": "#E5ECF6",
           "caxis": {
            "gridcolor": "white",
            "linecolor": "white",
            "ticks": ""
           }
          },
          "title": {
           "x": 0.05
          },
          "xaxis": {
           "automargin": true,
           "gridcolor": "white",
           "linecolor": "white",
           "ticks": "",
           "title": {
            "standoff": 15
           },
           "zerolinecolor": "white",
           "zerolinewidth": 2
          },
          "yaxis": {
           "automargin": true,
           "gridcolor": "white",
           "linecolor": "white",
           "ticks": "",
           "title": {
            "standoff": 15
           },
           "zerolinecolor": "white",
           "zerolinewidth": 2
          }
         }
        },
        "title": {
         "text": "Сумма"
        }
       }
      }
     },
     "metadata": {},
     "output_type": "display_data"
    },
    {
     "data": {
      "application/vnd.plotly.v1+json": {
       "config": {
        "plotlyServerURL": "https://plot.ly"
       },
       "data": [
        {
         "name": "Новые",
         "type": "bar",
         "x": [
          "2020-01-01",
          "2020-01-02",
          "2020-01-03",
          "2020-01-04",
          "2020-01-05",
          "2020-01-06",
          "2020-01-07",
          "2020-01-08",
          "2020-01-09",
          "2020-01-10",
          "2020-01-11",
          "2020-01-12",
          "2020-01-13",
          "2020-01-14",
          "2020-01-15",
          "2020-01-16",
          "2020-01-17",
          "2020-01-18",
          "2020-01-19",
          "2020-01-20",
          "2020-01-21",
          "2020-01-22",
          "2020-01-23",
          "2020-01-24",
          "2020-01-25",
          "2020-01-26",
          "2020-01-27",
          "2020-01-28",
          "2020-01-29",
          "2020-01-30",
          "2020-01-31",
          "2020-02-01",
          "2020-02-02",
          "2020-02-03",
          "2020-02-04",
          "2020-02-05",
          "2020-02-06",
          "2020-02-07",
          "2020-02-08",
          "2020-02-09",
          "2020-02-10",
          "2020-02-11",
          "2020-02-12",
          "2020-02-13",
          "2020-02-14",
          "2020-02-15",
          "2020-02-16",
          "2020-02-17",
          "2020-02-18",
          "2020-02-19",
          "2020-02-20",
          "2020-02-21",
          "2020-02-22",
          "2020-02-23",
          "2020-02-24",
          "2020-02-25",
          "2020-02-26",
          "2020-02-27",
          "2020-02-28",
          "2020-02-29",
          "2020-03-01",
          "2020-03-02",
          "2020-03-03",
          "2020-03-04",
          "2020-03-05",
          "2020-03-06",
          "2020-03-07",
          "2020-03-08",
          "2020-03-09",
          "2020-03-10",
          "2020-03-11",
          "2020-03-12",
          "2020-03-13",
          "2020-03-14",
          "2020-03-16",
          "2020-03-17",
          "2020-03-18",
          "2020-03-19",
          "2020-03-20",
          "2020-03-21",
          "2020-03-22",
          "2020-03-23",
          "2020-03-24",
          "2020-03-25",
          "2020-03-26",
          "2020-03-27",
          "2020-03-28",
          "2020-03-29",
          "2020-03-30",
          "2020-03-31",
          "2020-04-01",
          "2020-04-02",
          "2020-04-04",
          "2020-04-05",
          "2020-04-06",
          "2020-04-07",
          "2020-04-08",
          "2020-04-09",
          "2020-04-10",
          "2020-04-11",
          "2020-04-12",
          "2020-04-13",
          "2020-04-14",
          "2020-04-15",
          "2020-04-16",
          "2020-04-17",
          "2020-04-18",
          "2020-04-19",
          "2020-04-20",
          "2020-04-21",
          "2020-04-22",
          "2020-04-23",
          "2020-04-24",
          "2020-04-25",
          "2020-04-26",
          "2020-04-27",
          "2020-04-28",
          "2020-04-29",
          "2020-04-30",
          "2020-05-01",
          "2020-05-02",
          "2020-05-03",
          "2020-05-04",
          "2020-05-05",
          "2020-05-06",
          "2020-05-07",
          "2020-05-08",
          "2020-05-09",
          "2020-05-10",
          "2020-05-11",
          "2020-05-12",
          "2020-05-13",
          "2020-05-14",
          "2020-05-15",
          "2020-05-16",
          "2020-05-17",
          "2020-05-18",
          "2020-05-19",
          "2020-05-20",
          "2020-05-21",
          "2020-05-22",
          "2020-05-23",
          "2020-05-24",
          "2020-05-25",
          "2020-05-26",
          "2020-05-27",
          "2020-05-28",
          "2020-05-29",
          "2020-05-30",
          "2020-05-31"
         ],
         "y": [
          12,
          60,
          171,
          265,
          232,
          290,
          148,
          313,
          411,
          377,
          314,
          289,
          434,
          349,
          381,
          317,
          295,
          263,
          230,
          388,
          330,
          271,
          289,
          247,
          232,
          164,
          235,
          226,
          207,
          205,
          256,
          183,
          130,
          188,
          137,
          98,
          91,
          52,
          41,
          23,
          38,
          19,
          18,
          16,
          7,
          6,
          7,
          14,
          11,
          6,
          10,
          5,
          7,
          3,
          4,
          2,
          2,
          4,
          12,
          2,
          3,
          6,
          8,
          3,
          8,
          3,
          1,
          1,
          1,
          4,
          4,
          8,
          5,
          3,
          7,
          2,
          3,
          4,
          5,
          3,
          3,
          3,
          6,
          3,
          2,
          2,
          1,
          1,
          1,
          3,
          2,
          2,
          2,
          3,
          4,
          1,
          6,
          3,
          1,
          3,
          2,
          5,
          2,
          4,
          3,
          2,
          3,
          1,
          2,
          4,
          0,
          3,
          2,
          1,
          1,
          1,
          1,
          3,
          2,
          6,
          0,
          1,
          2,
          1,
          2,
          0,
          2,
          2,
          0,
          2,
          3,
          1,
          2,
          0,
          1,
          2,
          4,
          2,
          3,
          2,
          2,
          1,
          2,
          1,
          1,
          0,
          2,
          2,
          0,
          2
         ]
        },
        {
         "name": "Реактивированные",
         "type": "bar",
         "x": [
          "2020-01-01",
          "2020-01-02",
          "2020-01-03",
          "2020-01-04",
          "2020-01-05",
          "2020-01-06",
          "2020-01-07",
          "2020-01-08",
          "2020-01-09",
          "2020-01-10",
          "2020-01-11",
          "2020-01-12",
          "2020-01-13",
          "2020-01-14",
          "2020-01-15",
          "2020-01-16",
          "2020-01-17",
          "2020-01-18",
          "2020-01-19",
          "2020-01-20",
          "2020-01-21",
          "2020-01-22",
          "2020-01-23",
          "2020-01-24",
          "2020-01-25",
          "2020-01-26",
          "2020-01-27",
          "2020-01-28",
          "2020-01-29",
          "2020-01-30",
          "2020-01-31",
          "2020-02-01",
          "2020-02-02",
          "2020-02-03",
          "2020-02-04",
          "2020-02-05",
          "2020-02-06",
          "2020-02-07",
          "2020-02-08",
          "2020-02-09",
          "2020-02-10",
          "2020-02-11",
          "2020-02-12",
          "2020-02-13",
          "2020-02-14",
          "2020-02-15",
          "2020-02-16",
          "2020-02-17",
          "2020-02-18",
          "2020-02-19",
          "2020-02-20",
          "2020-02-21",
          "2020-02-22",
          "2020-02-23",
          "2020-02-24",
          "2020-02-25",
          "2020-02-26",
          "2020-02-27",
          "2020-02-28",
          "2020-02-29",
          "2020-03-01",
          "2020-03-02",
          "2020-03-03",
          "2020-03-04",
          "2020-03-05",
          "2020-03-06",
          "2020-03-07",
          "2020-03-08",
          "2020-03-09",
          "2020-03-10",
          "2020-03-11",
          "2020-03-12",
          "2020-03-13",
          "2020-03-14",
          "2020-03-16",
          "2020-03-17",
          "2020-03-18",
          "2020-03-19",
          "2020-03-20",
          "2020-03-21",
          "2020-03-22",
          "2020-03-23",
          "2020-03-24",
          "2020-03-25",
          "2020-03-26",
          "2020-03-27",
          "2020-03-28",
          "2020-03-29",
          "2020-03-30",
          "2020-03-31",
          "2020-04-01",
          "2020-04-02",
          "2020-04-04",
          "2020-04-05",
          "2020-04-06",
          "2020-04-07",
          "2020-04-08",
          "2020-04-09",
          "2020-04-10",
          "2020-04-11",
          "2020-04-12",
          "2020-04-13",
          "2020-04-14",
          "2020-04-15",
          "2020-04-16",
          "2020-04-17",
          "2020-04-18",
          "2020-04-19",
          "2020-04-20",
          "2020-04-21",
          "2020-04-22",
          "2020-04-23",
          "2020-04-24",
          "2020-04-25",
          "2020-04-26",
          "2020-04-27",
          "2020-04-28",
          "2020-04-29",
          "2020-04-30",
          "2020-05-01",
          "2020-05-02",
          "2020-05-03",
          "2020-05-04",
          "2020-05-05",
          "2020-05-06",
          "2020-05-07",
          "2020-05-08",
          "2020-05-09",
          "2020-05-10",
          "2020-05-11",
          "2020-05-12",
          "2020-05-13",
          "2020-05-14",
          "2020-05-15",
          "2020-05-16",
          "2020-05-17",
          "2020-05-18",
          "2020-05-19",
          "2020-05-20",
          "2020-05-21",
          "2020-05-22",
          "2020-05-23",
          "2020-05-24",
          "2020-05-25",
          "2020-05-26",
          "2020-05-27",
          "2020-05-28",
          "2020-05-29",
          "2020-05-30",
          "2020-05-31"
         ],
         "y": [
          0,
          0,
          0,
          0,
          0,
          0,
          0,
          0,
          0,
          0,
          0,
          0,
          0,
          0,
          0,
          0,
          0,
          0,
          0,
          0,
          0,
          0,
          0,
          0,
          0,
          0,
          0,
          0,
          0,
          0,
          0,
          0,
          0,
          0,
          0,
          0,
          0,
          0,
          0,
          0,
          0,
          0,
          0,
          0,
          0,
          0,
          0,
          0,
          0,
          0,
          0,
          0,
          0,
          0,
          0,
          0,
          0,
          0,
          0,
          0,
          0,
          0,
          0,
          0,
          0,
          0,
          0,
          0,
          0,
          0,
          0,
          0,
          0,
          0,
          0,
          0,
          0,
          0,
          0,
          0,
          0,
          0,
          0,
          0,
          0,
          0,
          0,
          0,
          0,
          0,
          0,
          0,
          0,
          1,
          2,
          1,
          8,
          6,
          3,
          7,
          3,
          7,
          5,
          7,
          13,
          5,
          5,
          9,
          14,
          10,
          14,
          22,
          12,
          8,
          13,
          23,
          14,
          17,
          21,
          8,
          11,
          12,
          10,
          18,
          19,
          19,
          13,
          7,
          13,
          16,
          31,
          19,
          17,
          17,
          15,
          13,
          30,
          16,
          22,
          26,
          12,
          11,
          12,
          22,
          14,
          16,
          21,
          16,
          17,
          23
         ]
        }
       ],
       "layout": {
        "barmode": "stack",
        "template": {
         "data": {
          "bar": [
           {
            "error_x": {
             "color": "#2a3f5f"
            },
            "error_y": {
             "color": "#2a3f5f"
            },
            "marker": {
             "line": {
              "color": "#E5ECF6",
              "width": 0.5
             },
             "pattern": {
              "fillmode": "overlay",
              "size": 10,
              "solidity": 0.2
             }
            },
            "type": "bar"
           }
          ],
          "barpolar": [
           {
            "marker": {
             "line": {
              "color": "#E5ECF6",
              "width": 0.5
             },
             "pattern": {
              "fillmode": "overlay",
              "size": 10,
              "solidity": 0.2
             }
            },
            "type": "barpolar"
           }
          ],
          "carpet": [
           {
            "aaxis": {
             "endlinecolor": "#2a3f5f",
             "gridcolor": "white",
             "linecolor": "white",
             "minorgridcolor": "white",
             "startlinecolor": "#2a3f5f"
            },
            "baxis": {
             "endlinecolor": "#2a3f5f",
             "gridcolor": "white",
             "linecolor": "white",
             "minorgridcolor": "white",
             "startlinecolor": "#2a3f5f"
            },
            "type": "carpet"
           }
          ],
          "choropleth": [
           {
            "colorbar": {
             "outlinewidth": 0,
             "ticks": ""
            },
            "type": "choropleth"
           }
          ],
          "contour": [
           {
            "colorbar": {
             "outlinewidth": 0,
             "ticks": ""
            },
            "colorscale": [
             [
              0,
              "#0d0887"
             ],
             [
              0.1111111111111111,
              "#46039f"
             ],
             [
              0.2222222222222222,
              "#7201a8"
             ],
             [
              0.3333333333333333,
              "#9c179e"
             ],
             [
              0.4444444444444444,
              "#bd3786"
             ],
             [
              0.5555555555555556,
              "#d8576b"
             ],
             [
              0.6666666666666666,
              "#ed7953"
             ],
             [
              0.7777777777777778,
              "#fb9f3a"
             ],
             [
              0.8888888888888888,
              "#fdca26"
             ],
             [
              1,
              "#f0f921"
             ]
            ],
            "type": "contour"
           }
          ],
          "contourcarpet": [
           {
            "colorbar": {
             "outlinewidth": 0,
             "ticks": ""
            },
            "type": "contourcarpet"
           }
          ],
          "heatmap": [
           {
            "colorbar": {
             "outlinewidth": 0,
             "ticks": ""
            },
            "colorscale": [
             [
              0,
              "#0d0887"
             ],
             [
              0.1111111111111111,
              "#46039f"
             ],
             [
              0.2222222222222222,
              "#7201a8"
             ],
             [
              0.3333333333333333,
              "#9c179e"
             ],
             [
              0.4444444444444444,
              "#bd3786"
             ],
             [
              0.5555555555555556,
              "#d8576b"
             ],
             [
              0.6666666666666666,
              "#ed7953"
             ],
             [
              0.7777777777777778,
              "#fb9f3a"
             ],
             [
              0.8888888888888888,
              "#fdca26"
             ],
             [
              1,
              "#f0f921"
             ]
            ],
            "type": "heatmap"
           }
          ],
          "heatmapgl": [
           {
            "colorbar": {
             "outlinewidth": 0,
             "ticks": ""
            },
            "colorscale": [
             [
              0,
              "#0d0887"
             ],
             [
              0.1111111111111111,
              "#46039f"
             ],
             [
              0.2222222222222222,
              "#7201a8"
             ],
             [
              0.3333333333333333,
              "#9c179e"
             ],
             [
              0.4444444444444444,
              "#bd3786"
             ],
             [
              0.5555555555555556,
              "#d8576b"
             ],
             [
              0.6666666666666666,
              "#ed7953"
             ],
             [
              0.7777777777777778,
              "#fb9f3a"
             ],
             [
              0.8888888888888888,
              "#fdca26"
             ],
             [
              1,
              "#f0f921"
             ]
            ],
            "type": "heatmapgl"
           }
          ],
          "histogram": [
           {
            "marker": {
             "pattern": {
              "fillmode": "overlay",
              "size": 10,
              "solidity": 0.2
             }
            },
            "type": "histogram"
           }
          ],
          "histogram2d": [
           {
            "colorbar": {
             "outlinewidth": 0,
             "ticks": ""
            },
            "colorscale": [
             [
              0,
              "#0d0887"
             ],
             [
              0.1111111111111111,
              "#46039f"
             ],
             [
              0.2222222222222222,
              "#7201a8"
             ],
             [
              0.3333333333333333,
              "#9c179e"
             ],
             [
              0.4444444444444444,
              "#bd3786"
             ],
             [
              0.5555555555555556,
              "#d8576b"
             ],
             [
              0.6666666666666666,
              "#ed7953"
             ],
             [
              0.7777777777777778,
              "#fb9f3a"
             ],
             [
              0.8888888888888888,
              "#fdca26"
             ],
             [
              1,
              "#f0f921"
             ]
            ],
            "type": "histogram2d"
           }
          ],
          "histogram2dcontour": [
           {
            "colorbar": {
             "outlinewidth": 0,
             "ticks": ""
            },
            "colorscale": [
             [
              0,
              "#0d0887"
             ],
             [
              0.1111111111111111,
              "#46039f"
             ],
             [
              0.2222222222222222,
              "#7201a8"
             ],
             [
              0.3333333333333333,
              "#9c179e"
             ],
             [
              0.4444444444444444,
              "#bd3786"
             ],
             [
              0.5555555555555556,
              "#d8576b"
             ],
             [
              0.6666666666666666,
              "#ed7953"
             ],
             [
              0.7777777777777778,
              "#fb9f3a"
             ],
             [
              0.8888888888888888,
              "#fdca26"
             ],
             [
              1,
              "#f0f921"
             ]
            ],
            "type": "histogram2dcontour"
           }
          ],
          "mesh3d": [
           {
            "colorbar": {
             "outlinewidth": 0,
             "ticks": ""
            },
            "type": "mesh3d"
           }
          ],
          "parcoords": [
           {
            "line": {
             "colorbar": {
              "outlinewidth": 0,
              "ticks": ""
             }
            },
            "type": "parcoords"
           }
          ],
          "pie": [
           {
            "automargin": true,
            "type": "pie"
           }
          ],
          "scatter": [
           {
            "fillpattern": {
             "fillmode": "overlay",
             "size": 10,
             "solidity": 0.2
            },
            "type": "scatter"
           }
          ],
          "scatter3d": [
           {
            "line": {
             "colorbar": {
              "outlinewidth": 0,
              "ticks": ""
             }
            },
            "marker": {
             "colorbar": {
              "outlinewidth": 0,
              "ticks": ""
             }
            },
            "type": "scatter3d"
           }
          ],
          "scattercarpet": [
           {
            "marker": {
             "colorbar": {
              "outlinewidth": 0,
              "ticks": ""
             }
            },
            "type": "scattercarpet"
           }
          ],
          "scattergeo": [
           {
            "marker": {
             "colorbar": {
              "outlinewidth": 0,
              "ticks": ""
             }
            },
            "type": "scattergeo"
           }
          ],
          "scattergl": [
           {
            "marker": {
             "colorbar": {
              "outlinewidth": 0,
              "ticks": ""
             }
            },
            "type": "scattergl"
           }
          ],
          "scattermapbox": [
           {
            "marker": {
             "colorbar": {
              "outlinewidth": 0,
              "ticks": ""
             }
            },
            "type": "scattermapbox"
           }
          ],
          "scatterpolar": [
           {
            "marker": {
             "colorbar": {
              "outlinewidth": 0,
              "ticks": ""
             }
            },
            "type": "scatterpolar"
           }
          ],
          "scatterpolargl": [
           {
            "marker": {
             "colorbar": {
              "outlinewidth": 0,
              "ticks": ""
             }
            },
            "type": "scatterpolargl"
           }
          ],
          "scatterternary": [
           {
            "marker": {
             "colorbar": {
              "outlinewidth": 0,
              "ticks": ""
             }
            },
            "type": "scatterternary"
           }
          ],
          "surface": [
           {
            "colorbar": {
             "outlinewidth": 0,
             "ticks": ""
            },
            "colorscale": [
             [
              0,
              "#0d0887"
             ],
             [
              0.1111111111111111,
              "#46039f"
             ],
             [
              0.2222222222222222,
              "#7201a8"
             ],
             [
              0.3333333333333333,
              "#9c179e"
             ],
             [
              0.4444444444444444,
              "#bd3786"
             ],
             [
              0.5555555555555556,
              "#d8576b"
             ],
             [
              0.6666666666666666,
              "#ed7953"
             ],
             [
              0.7777777777777778,
              "#fb9f3a"
             ],
             [
              0.8888888888888888,
              "#fdca26"
             ],
             [
              1,
              "#f0f921"
             ]
            ],
            "type": "surface"
           }
          ],
          "table": [
           {
            "cells": {
             "fill": {
              "color": "#EBF0F8"
             },
             "line": {
              "color": "white"
             }
            },
            "header": {
             "fill": {
              "color": "#C8D4E3"
             },
             "line": {
              "color": "white"
             }
            },
            "type": "table"
           }
          ]
         },
         "layout": {
          "annotationdefaults": {
           "arrowcolor": "#2a3f5f",
           "arrowhead": 0,
           "arrowwidth": 1
          },
          "autotypenumbers": "strict",
          "coloraxis": {
           "colorbar": {
            "outlinewidth": 0,
            "ticks": ""
           }
          },
          "colorscale": {
           "diverging": [
            [
             0,
             "#8e0152"
            ],
            [
             0.1,
             "#c51b7d"
            ],
            [
             0.2,
             "#de77ae"
            ],
            [
             0.3,
             "#f1b6da"
            ],
            [
             0.4,
             "#fde0ef"
            ],
            [
             0.5,
             "#f7f7f7"
            ],
            [
             0.6,
             "#e6f5d0"
            ],
            [
             0.7,
             "#b8e186"
            ],
            [
             0.8,
             "#7fbc41"
            ],
            [
             0.9,
             "#4d9221"
            ],
            [
             1,
             "#276419"
            ]
           ],
           "sequential": [
            [
             0,
             "#0d0887"
            ],
            [
             0.1111111111111111,
             "#46039f"
            ],
            [
             0.2222222222222222,
             "#7201a8"
            ],
            [
             0.3333333333333333,
             "#9c179e"
            ],
            [
             0.4444444444444444,
             "#bd3786"
            ],
            [
             0.5555555555555556,
             "#d8576b"
            ],
            [
             0.6666666666666666,
             "#ed7953"
            ],
            [
             0.7777777777777778,
             "#fb9f3a"
            ],
            [
             0.8888888888888888,
             "#fdca26"
            ],
            [
             1,
             "#f0f921"
            ]
           ],
           "sequentialminus": [
            [
             0,
             "#0d0887"
            ],
            [
             0.1111111111111111,
             "#46039f"
            ],
            [
             0.2222222222222222,
             "#7201a8"
            ],
            [
             0.3333333333333333,
             "#9c179e"
            ],
            [
             0.4444444444444444,
             "#bd3786"
            ],
            [
             0.5555555555555556,
             "#d8576b"
            ],
            [
             0.6666666666666666,
             "#ed7953"
            ],
            [
             0.7777777777777778,
             "#fb9f3a"
            ],
            [
             0.8888888888888888,
             "#fdca26"
            ],
            [
             1,
             "#f0f921"
            ]
           ]
          },
          "colorway": [
           "#636efa",
           "#EF553B",
           "#00cc96",
           "#ab63fa",
           "#FFA15A",
           "#19d3f3",
           "#FF6692",
           "#B6E880",
           "#FF97FF",
           "#FECB52"
          ],
          "font": {
           "color": "#2a3f5f"
          },
          "geo": {
           "bgcolor": "white",
           "lakecolor": "white",
           "landcolor": "#E5ECF6",
           "showlakes": true,
           "showland": true,
           "subunitcolor": "white"
          },
          "hoverlabel": {
           "align": "left"
          },
          "hovermode": "closest",
          "mapbox": {
           "style": "light"
          },
          "paper_bgcolor": "white",
          "plot_bgcolor": "#E5ECF6",
          "polar": {
           "angularaxis": {
            "gridcolor": "white",
            "linecolor": "white",
            "ticks": ""
           },
           "bgcolor": "#E5ECF6",
           "radialaxis": {
            "gridcolor": "white",
            "linecolor": "white",
            "ticks": ""
           }
          },
          "scene": {
           "xaxis": {
            "backgroundcolor": "#E5ECF6",
            "gridcolor": "white",
            "gridwidth": 2,
            "linecolor": "white",
            "showbackground": true,
            "ticks": "",
            "zerolinecolor": "white"
           },
           "yaxis": {
            "backgroundcolor": "#E5ECF6",
            "gridcolor": "white",
            "gridwidth": 2,
            "linecolor": "white",
            "showbackground": true,
            "ticks": "",
            "zerolinecolor": "white"
           },
           "zaxis": {
            "backgroundcolor": "#E5ECF6",
            "gridcolor": "white",
            "gridwidth": 2,
            "linecolor": "white",
            "showbackground": true,
            "ticks": "",
            "zerolinecolor": "white"
           }
          },
          "shapedefaults": {
           "line": {
            "color": "#2a3f5f"
           }
          },
          "ternary": {
           "aaxis": {
            "gridcolor": "white",
            "linecolor": "white",
            "ticks": ""
           },
           "baxis": {
            "gridcolor": "white",
            "linecolor": "white",
            "ticks": ""
           },
           "bgcolor": "#E5ECF6",
           "caxis": {
            "gridcolor": "white",
            "linecolor": "white",
            "ticks": ""
           }
          },
          "title": {
           "x": 0.05
          },
          "xaxis": {
           "automargin": true,
           "gridcolor": "white",
           "linecolor": "white",
           "ticks": "",
           "title": {
            "standoff": 15
           },
           "zerolinecolor": "white",
           "zerolinewidth": 2
          },
          "yaxis": {
           "automargin": true,
           "gridcolor": "white",
           "linecolor": "white",
           "ticks": "",
           "title": {
            "standoff": 15
           },
           "zerolinecolor": "white",
           "zerolinewidth": 2
          }
         }
        },
        "title": {
         "text": "Количество"
        }
       }
      }
     },
     "metadata": {},
     "output_type": "display_data"
    }
   ],
   "source": [
    "import plotly.graph_objects as go\n",
    " \n",
    "plot = go.Figure(data=[go.Bar(\n",
    "    name = 'Новые',\n",
    "    x = df['date'],\n",
    "    y = df['new sum']\n",
    "   ),\n",
    "                       go.Bar(\n",
    "    name = 'Реактивированные',\n",
    "    x = df['date'],\n",
    "    y = df['renew sum']\n",
    "   )\n",
    "])\n",
    "plot.update_layout(barmode='stack',title='Сумма')\n",
    "plot.show()\n",
    "#\n",
    "plot = go.Figure(data=[go.Bar(\n",
    "    name = 'Новые',\n",
    "    x = df['date'],\n",
    "    y = df['new count']\n",
    "   ),\n",
    "                       go.Bar(\n",
    "    name = 'Реактивированные',\n",
    "    x = df['date'],\n",
    "    y = df['renew count']\n",
    "   )\n",
    "])\n",
    "plot.update_layout(barmode='stack',title='Количество')\n",
    "plot.show()"
   ]
  }
 ],
 "metadata": {
  "kernelspec": {
   "display_name": "Python 3.10.6 ('.venv': venv)",
   "language": "python",
   "name": "python3"
  },
  "language_info": {
   "codemirror_mode": {
    "name": "ipython",
    "version": 3
   },
   "file_extension": ".py",
   "mimetype": "text/x-python",
   "name": "python",
   "nbconvert_exporter": "python",
   "pygments_lexer": "ipython3",
   "version": "3.10.6"
  },
  "orig_nbformat": 4,
  "vscode": {
   "interpreter": {
    "hash": "f831f792430cfa995b948bcbcfbfadf2d346836c8ff90b162d6490168c471b2d"
   }
  }
 },
 "nbformat": 4,
 "nbformat_minor": 2
}
